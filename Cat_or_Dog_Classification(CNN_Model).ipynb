{
 "cells": [
  {
   "cell_type": "code",
   "execution_count": 1,
   "metadata": {},
   "outputs": [
    {
     "name": "stderr",
     "output_type": "stream",
     "text": [
      "Using TensorFlow backend.\n"
     ]
    }
   ],
   "source": [
    "#Import keras libraries\n",
    "from keras.models import Sequential\n",
    "from keras.layers import Dense\n",
    "from keras.layers import Conv2D\n",
    "from keras.layers import MaxPooling2D,Flatten"
   ]
  },
  {
   "cell_type": "code",
   "execution_count": 2,
   "metadata": {},
   "outputs": [],
   "source": [
    "model = Sequential()"
   ]
  },
  {
   "cell_type": "code",
   "execution_count": 3,
   "metadata": {},
   "outputs": [
    {
     "name": "stderr",
     "output_type": "stream",
     "text": [
      "/home/shreemay/anaconda3/lib/python3.7/site-packages/ipykernel_launcher.py:1: UserWarning: Update your `Conv2D` call to the Keras 2 API: `Conv2D(32, (3, 3), input_shape=(64, 64, 3..., activation=\"relu\")`\n",
      "  \"\"\"Entry point for launching an IPython kernel.\n"
     ]
    },
    {
     "name": "stdout",
     "output_type": "stream",
     "text": [
      "WARNING:tensorflow:From /home/shreemay/anaconda3/lib/python3.7/site-packages/tensorflow/python/framework/op_def_library.py:263: colocate_with (from tensorflow.python.framework.ops) is deprecated and will be removed in a future version.\n",
      "Instructions for updating:\n",
      "Colocations handled automatically by placer.\n"
     ]
    }
   ],
   "source": [
    "model.add(Conv2D(32, 3,3,input_shape= (64,64,3),activation='relu'))"
   ]
  },
  {
   "cell_type": "code",
   "execution_count": 4,
   "metadata": {},
   "outputs": [],
   "source": [
    "model.add(MaxPooling2D(pool_size =(2,2)))"
   ]
  },
  {
   "cell_type": "code",
   "execution_count": 5,
   "metadata": {},
   "outputs": [],
   "source": [
    "model.add(Flatten())"
   ]
  },
  {
   "cell_type": "code",
   "execution_count": 6,
   "metadata": {},
   "outputs": [
    {
     "name": "stderr",
     "output_type": "stream",
     "text": [
      "/home/shreemay/anaconda3/lib/python3.7/site-packages/ipykernel_launcher.py:1: UserWarning: Update your `Dense` call to the Keras 2 API: `Dense(activation=\"relu\", units=128, kernel_initializer=\"random_uniform\")`\n",
      "  \"\"\"Entry point for launching an IPython kernel.\n"
     ]
    }
   ],
   "source": [
    "model.add(Dense(output_dim=128,activation='relu', init='random_uniform'))"
   ]
  },
  {
   "cell_type": "code",
   "execution_count": 7,
   "metadata": {},
   "outputs": [
    {
     "name": "stderr",
     "output_type": "stream",
     "text": [
      "/home/shreemay/anaconda3/lib/python3.7/site-packages/ipykernel_launcher.py:1: UserWarning: Update your `Dense` call to the Keras 2 API: `Dense(activation=\"sigmoid\", units=1, kernel_initializer=\"random_uniform\")`\n",
      "  \"\"\"Entry point for launching an IPython kernel.\n"
     ]
    }
   ],
   "source": [
    "model.add(Dense(output_dim=1,activation='sigmoid', init='random_uniform'))"
   ]
  },
  {
   "cell_type": "code",
   "execution_count": 8,
   "metadata": {},
   "outputs": [],
   "source": [
    "model.compile(optimizer='adam',loss = 'binary_crossentropy' , metrics = ['accuracy'])"
   ]
  },
  {
   "cell_type": "code",
   "execution_count": 9,
   "metadata": {},
   "outputs": [],
   "source": [
    "from keras .preprocessing.image import ImageDataGenerator"
   ]
  },
  {
   "cell_type": "code",
   "execution_count": 10,
   "metadata": {},
   "outputs": [],
   "source": [
    "train_datagen = ImageDataGenerator(rescale = 1./255,\n",
    "                                  shear_range =0.2,\n",
    "                                  zoom_range = 0.2,\n",
    "                                  horizontal_flip = True)\n",
    "test_datagen = ImageDataGenerator(rescale = 1./255)"
   ]
  },
  {
   "cell_type": "code",
   "execution_count": 11,
   "metadata": {},
   "outputs": [
    {
     "name": "stdout",
     "output_type": "stream",
     "text": [
      "Found 8000 images belonging to 2 classes.\n",
      "Found 2000 images belonging to 2 classes.\n"
     ]
    }
   ],
   "source": [
    "x_train = train_datagen.flow_from_directory(r'/home/shreemay/dataset/training_set',\n",
    "                                                 target_size=(64,64),\n",
    "                                                batch_size = 32,\n",
    "                                                class_mode = 'binary')\n",
    "x_test = train_datagen.flow_from_directory(r'/home/shreemay/dataset/test_set',\n",
    "                                                 target_size=(64,64),\n",
    "                                                batch_size = 32,\n",
    "                                                class_mode = 'binary')"
   ]
  },
  {
   "cell_type": "code",
   "execution_count": 12,
   "metadata": {},
   "outputs": [
    {
     "name": "stdout",
     "output_type": "stream",
     "text": [
      "{'cats': 0, 'dogs': 1}\n"
     ]
    }
   ],
   "source": [
    "print(x_train.class_indices)"
   ]
  },
  {
   "cell_type": "code",
   "execution_count": 13,
   "metadata": {},
   "outputs": [
    {
     "name": "stdout",
     "output_type": "stream",
     "text": [
      "WARNING:tensorflow:From /home/shreemay/anaconda3/lib/python3.7/site-packages/tensorflow/python/ops/math_ops.py:3066: to_int32 (from tensorflow.python.ops.math_ops) is deprecated and will be removed in a future version.\n",
      "Instructions for updating:\n",
      "Use tf.cast instead.\n"
     ]
    },
    {
     "name": "stderr",
     "output_type": "stream",
     "text": [
      "/home/shreemay/anaconda3/lib/python3.7/site-packages/ipykernel_launcher.py:5: UserWarning: The semantics of the Keras 2 argument `steps_per_epoch` is not the same as the Keras 1 argument `samples_per_epoch`. `steps_per_epoch` is the number of batches to draw from the generator at each epoch. Basically steps_per_epoch = samples_per_epoch/batch_size. Similarly `nb_val_samples`->`validation_steps` and `val_samples`->`steps` arguments have changed. Update your method calls accordingly.\n",
      "  \"\"\"\n",
      "/home/shreemay/anaconda3/lib/python3.7/site-packages/ipykernel_launcher.py:5: UserWarning: Update your `fit_generator` call to the Keras 2 API: `fit_generator(<keras_pre..., epochs=25, validation_data=<keras_pre..., steps_per_epoch=250, validation_steps=2000)`\n",
      "  \"\"\"\n"
     ]
    },
    {
     "name": "stdout",
     "output_type": "stream",
     "text": [
      "Epoch 1/25\n",
      "250/250 [==============================] - 669s 3s/step - loss: 0.6811 - acc: 0.5728 - val_loss: 0.6643 - val_acc: 0.5662\n",
      "Epoch 2/25\n",
      "250/250 [==============================] - 415s 2s/step - loss: 0.6266 - acc: 0.6459 - val_loss: 0.6104 - val_acc: 0.6714\n",
      "Epoch 3/25\n",
      "250/250 [==============================] - 413s 2s/step - loss: 0.5970 - acc: 0.6801 - val_loss: 0.6015 - val_acc: 0.6730\n",
      "Epoch 4/25\n",
      "250/250 [==============================] - 413s 2s/step - loss: 0.5667 - acc: 0.7009 - val_loss: 0.5670 - val_acc: 0.7061\n",
      "Epoch 5/25\n",
      "250/250 [==============================] - 413s 2s/step - loss: 0.5456 - acc: 0.7224 - val_loss: 0.5533 - val_acc: 0.7154\n",
      "Epoch 6/25\n",
      "250/250 [==============================] - 413s 2s/step - loss: 0.5304 - acc: 0.7361 - val_loss: 0.5451 - val_acc: 0.7274\n",
      "Epoch 7/25\n",
      "250/250 [==============================] - 3305s 13s/step - loss: 0.5110 - acc: 0.7423 - val_loss: 0.5335 - val_acc: 0.7394\n",
      "Epoch 8/25\n",
      "250/250 [==============================] - 206s 825ms/step - loss: 0.5040 - acc: 0.7555 - val_loss: 0.5416 - val_acc: 0.7313\n",
      "Epoch 9/25\n",
      "250/250 [==============================] - 210s 839ms/step - loss: 0.4898 - acc: 0.7637 - val_loss: 0.5233 - val_acc: 0.7466\n",
      "Epoch 10/25\n",
      "250/250 [==============================] - 224s 897ms/step - loss: 0.4816 - acc: 0.7649 - val_loss: 0.5296 - val_acc: 0.7492\n",
      "Epoch 11/25\n",
      "250/250 [==============================] - 230s 918ms/step - loss: 0.4748 - acc: 0.7656 - val_loss: 0.5360 - val_acc: 0.7376\n",
      "Epoch 12/25\n",
      "250/250 [==============================] - 234s 938ms/step - loss: 0.4700 - acc: 0.7754 - val_loss: 0.5237 - val_acc: 0.7508\n",
      "Epoch 13/25\n",
      "250/250 [==============================] - 207s 826ms/step - loss: 0.4597 - acc: 0.7825 - val_loss: 0.5400 - val_acc: 0.7483\n",
      "Epoch 14/25\n",
      "250/250 [==============================] - 206s 825ms/step - loss: 0.4481 - acc: 0.7906 - val_loss: 0.5203 - val_acc: 0.7543\n",
      "Epoch 15/25\n",
      "250/250 [==============================] - 207s 826ms/step - loss: 0.4403 - acc: 0.7886 - val_loss: 0.5288 - val_acc: 0.7520\n",
      "Epoch 16/25\n",
      "250/250 [==============================] - 207s 826ms/step - loss: 0.4334 - acc: 0.7956 - val_loss: 0.5125 - val_acc: 0.7629\n",
      "Epoch 17/25\n",
      "250/250 [==============================] - 216s 865ms/step - loss: 0.4244 - acc: 0.7999 - val_loss: 0.5299 - val_acc: 0.7536\n",
      "Epoch 18/25\n",
      "250/250 [==============================] - 215s 862ms/step - loss: 0.4215 - acc: 0.8031 - val_loss: 0.5301 - val_acc: 0.7537\n",
      "Epoch 19/25\n",
      "250/250 [==============================] - 222s 889ms/step - loss: 0.4129 - acc: 0.8067 - val_loss: 0.5165 - val_acc: 0.7658\n",
      "Epoch 20/25\n",
      "250/250 [==============================] - 221s 885ms/step - loss: 0.4098 - acc: 0.8090 - val_loss: 0.5343 - val_acc: 0.7671\n",
      "Epoch 21/25\n",
      "250/250 [==============================] - 223s 892ms/step - loss: 0.4031 - acc: 0.8124 - val_loss: 0.5129 - val_acc: 0.7667\n",
      "Epoch 22/25\n",
      "250/250 [==============================] - 222s 889ms/step - loss: 0.3933 - acc: 0.8181 - val_loss: 0.5360 - val_acc: 0.7669\n",
      "Epoch 23/25\n",
      "250/250 [==============================] - 224s 896ms/step - loss: 0.3924 - acc: 0.8214 - val_loss: 0.5144 - val_acc: 0.7692\n",
      "Epoch 24/25\n",
      "250/250 [==============================] - 223s 892ms/step - loss: 0.3826 - acc: 0.8304 - val_loss: 0.5351 - val_acc: 0.7500\n",
      "Epoch 25/25\n",
      "250/250 [==============================] - 226s 902ms/step - loss: 0.3814 - acc: 0.8265 - val_loss: 0.5191 - val_acc: 0.7680\n"
     ]
    },
    {
     "data": {
      "text/plain": [
       "<keras.callbacks.History at 0x7f7605d90128>"
      ]
     },
     "execution_count": 13,
     "metadata": {},
     "output_type": "execute_result"
    }
   ],
   "source": [
    "model.fit_generator(x_train,\n",
    "                   samples_per_epoch = 8000,\n",
    "                   epochs = 25,\n",
    "                   validation_data = x_test,\n",
    "                   nb_val_samples = 2000)"
   ]
  },
  {
   "cell_type": "code",
   "execution_count": 14,
   "metadata": {},
   "outputs": [],
   "source": [
    "model.save('mymodel.h5')"
   ]
  },
  {
   "cell_type": "code",
   "execution_count": null,
   "metadata": {},
   "outputs": [],
   "source": []
  }
 ],
 "metadata": {
  "kernelspec": {
   "display_name": "Python 3",
   "language": "python",
   "name": "python3"
  },
  "language_info": {
   "codemirror_mode": {
    "name": "ipython",
    "version": 3
   },
   "file_extension": ".py",
   "mimetype": "text/x-python",
   "name": "python",
   "nbconvert_exporter": "python",
   "pygments_lexer": "ipython3",
   "version": "3.7.1"
  }
 },
 "nbformat": 4,
 "nbformat_minor": 2
}
